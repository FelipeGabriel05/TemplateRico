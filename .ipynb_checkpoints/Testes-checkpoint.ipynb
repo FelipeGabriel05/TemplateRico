{
 "cells": [
  {
   "cell_type": "code",
   "execution_count": 1,
   "id": "b6cf7808",
   "metadata": {},
   "outputs": [],
   "source": [
    "import pdfplumber"
   ]
  },
  {
   "cell_type": "code",
   "execution_count": 195,
   "id": "0686aba0",
   "metadata": {},
   "outputs": [
    {
     "name": "stdout",
     "output_type": "stream",
     "text": [
      "NOTA DE NEGOCIAÇÃO\n",
      "['Tel.', '3003-5465', 'Fax:', '(55', '11)', '4007-2465']\n"
     ]
    }
   ],
   "source": [
    "with pdfplumber.open('Rico.pdf') as pdf:\n",
    "    page = pdf.pages[0]\n",
    "    texto = page.extract_text()\n",
    "    all_text = \"\"\n",
    "    \n",
    "    for row in texto:\n",
    "        all_text += texto\n",
    "    row = all_text.split('\\n')\n",
    "    tipo_nota = row[0]\n",
    "    print(tipo_nota)\n",
    "    linha_telefonica =  row[5].split()\n",
    "    print(linha_telefonica)"
   ]
  },
  {
   "cell_type": "code",
   "execution_count": 139,
   "id": "308c577f",
   "metadata": {},
   "outputs": [
    {
     "name": "stdout",
     "output_type": "stream",
     "text": [
      "['', 'Carta Patente:', '', '']\n"
     ]
    },
    {
     "data": {
      "image/png": "[encoded data removed]",
      "text/plain": [
       "<pdfplumber.display.PageImage at 0x206e4e46190>"
      ]
     },
     "execution_count": 139,
     "metadata": {},
     "output_type": "execute_result"
    }
   ],
   "source": [
    "with pdfplumber.open('Rico.pdf') as pdf:\n",
    "    page = pdf.pages[0]\n",
    "    bloco1 = page.crop((380, 118, page.width, 125))\n",
    "    # 125\n",
    "    table_settings = {\n",
    "        \"vertical_strategy\": \"lines\",\n",
    "        \"horizontal_strategy\": \"explicit\",\n",
    "        \"explicit_vertical_lines\": [390, 433, 563],\n",
    "        \"explicit_horizontal_lines\": [124, 118]\n",
    "    }\n",
    "    tabela = bloco1.extract_table(table_settings)\n",
    "    print(tabela[0])\n",
    "# bloco1.to_image()\n",
    "im = bloco1.to_image()\n",
    "im.draw_vlines([390, 431, 563])\n",
    "im.draw_hlines([124, 118])"
   ]
  },
  {
   "cell_type": "code",
   "execution_count": 193,
   "id": "3575a49f",
   "metadata": {},
   "outputs": [
    {
     "name": "stdout",
     "output_type": "stream",
     "text": [
      "\n"
     ]
    },
    {
     "data": {
      "image/png": "[encoded data removed]",
      "text/plain": [
       "<pdfplumber.display.PageImage at 0x206e532c6d0>"
      ]
     },
     "execution_count": 193,
     "metadata": {},
     "output_type": "execute_result"
    }
   ],
   "source": [
    "with pdfplumber.open('Rico.pdf') as pdf:\n",
    "    page = pdf.pages[0]\n",
    "    bloco2 = page.crop((390, 125, page.width, 138))\n",
    "    # 125\n",
    "    table_settings2 = {\n",
    "        \"vertical_strategy\": \"lines\",\n",
    "        \"horizontal_strategy\": \"explicit\",\n",
    "        \"explicit_vertical_lines\": [390, 440, 563],\n",
    "        \"explicit_horizontal_lines\": [131, 125]\n",
    "    }\n",
    "    tabela = bloco2.extract_table(table_settings2)\n",
    "    print(tabela[0][1])\n",
    "# bloco1.to_image()\n",
    "im = bloco2.to_image()\n",
    "im.draw_vlines([390, 440, 563])\n",
    "im.draw_hlines([131, 125])"
   ]
  },
  {
   "cell_type": "code",
   "execution_count": 287,
   "id": "425d1526",
   "metadata": {},
   "outputs": [
    {
     "name": "stdout",
     "output_type": "stream",
     "text": [
      "[['', 'RAFAEL GAULKE', '', ''], ['', 'R ESPERANCA MOSER, 30 - APTO 102 BELA VISTA', 'Tel', '. (047) 99786-7748'], ['', '89110-830 GASPAR - SC', '', '']]\n"
     ]
    },
    {
     "data": {
      "image/png": "[encoded data removed]",
      "text/plain": [
       "<pdfplumber.display.PageImage at 0x206ee416190>"
      ]
     },
     "execution_count": 287,
     "metadata": {},
     "output_type": "execute_result"
    }
   ],
   "source": [
    "with pdfplumber.open('Rico - FII.pdf') as pdf:\n",
    "    page = pdf.pages[0]\n",
    "    bloco3 = page.crop((110, 151, 425, 180))\n",
    "    # 110, 151, 425, 180\n",
    "    # Rico - FII.pdf\n",
    "    table_cliente = {\n",
    "        \"vertical_strategy\": \"lines\",\n",
    "        \"horizontal_strategy\": \"explicit\",\n",
    "        \"explicit_vertical_lines\": [132, 335, 347, 420],\n",
    "        \"explicit_horizontal_lines\": [148, 155, 165, 175]\n",
    "    }\n",
    "    info_cliente = bloco3.extract_table(table_cliente)\n",
    "    print(info_cliente)\n",
    "# bloco1.to_image()\n",
    "im = bloco3.to_image()\n",
    "im.draw_vlines([132, 335, 347, 420])\n",
    "im.draw_hlines([148, 155, 165, 175])"
   ]
  },
  {
   "cell_type": "code",
   "execution_count": 315,
   "id": "15f86170",
   "metadata": {},
   "outputs": [
    {
     "name": "stdout",
     "output_type": "stream",
     "text": [
      "[['009.490.059-08', '', ''], ['Código cliente', 'Assessor', ''], ['386-7 0649069', '4032', '']]\n"
     ]
    },
    {
     "data": {
      "image/png": "[encoded data removed]",
      "text/plain": [
       "<pdfplumber.display.PageImage at 0x206f0b5e190>"
      ]
     },
     "execution_count": 315,
     "metadata": {},
     "output_type": "execute_result"
    }
   ],
   "source": [
    "with pdfplumber.open('Rico - FII.pdf') as pdf:\n",
    "    page = pdf.pages[0]\n",
    "    bloco4 = page.crop((420, 141, page.width, 180))\n",
    "    # 110, 151, 425, 180\n",
    "    # Rico - FII.pdf\n",
    "    table_cliente2 = {\n",
    "        \"vertical_strategy\": \"lines\",\n",
    "        \"horizontal_strategy\": \"explicit\",\n",
    "        \"explicit_vertical_lines\": [520],\n",
    "        \"explicit_horizontal_lines\": [150, 160, 166, 176]\n",
    "    }\n",
    "    info_cliente2 = bloco4.extract_table(table_cliente2)\n",
    "    print(info_cliente2)\n",
    "# bloco1.to_image()\n",
    "im = bloco4.to_image()\n",
    "im.draw_vlines([520])\n",
    "im.draw_hlines([150, 160, 166, 176])"
   ]
  },
  {
   "cell_type": "code",
   "execution_count": 318,
   "id": "bf0ee27a",
   "metadata": {},
   "outputs": [
    {
     "name": "stdout",
     "output_type": "stream",
     "text": [
      "[['', 'Participante destino do repasse', 'Cliente', 'Valor', 'Custodiante', 'C.I', ''], ['', '', '-', '0', '', 'N', '']]\n"
     ]
    },
    {
     "data": {
      "image/png": "[encoded data removed]",
      "text/plain": [
       "<pdfplumber.display.PageImage at 0x206f12ac090>"
      ]
     },
     "execution_count": 318,
     "metadata": {},
     "output_type": "execute_result"
    }
   ],
   "source": [
    "with pdfplumber.open('Rico - FII.pdf') as pdf:\n",
    "    page = pdf.pages[0]\n",
    "    bloco5 = page.crop((20, 180, page.width, 200))\n",
    "    # 110, 151, 425, 180\n",
    "    # Rico - FII.pdf\n",
    "    tabela_banco1 = {\n",
    "        \"vertical_strategy\": \"lines\",\n",
    "        \"horizontal_strategy\": \"explicit\",\n",
    "        \"explicit_vertical_lines\": [231, 320, 420, 533, 560],\n",
    "        \"explicit_horizontal_lines\": [180, 186, 194]\n",
    "    }\n",
    "    banco1 = bloco5.extract_table(tabela_banco1)\n",
    "    print(banco1)\n",
    "# bloco1.to_image()\n",
    "im = bloco5.to_image()\n",
    "im.draw_vlines([231, 320, 420, 533, 560])\n",
    "im.draw_hlines([180, 186, 194])"
   ]
  },
  {
   "cell_type": "code",
   "execution_count": 324,
   "id": "7aa294d4",
   "metadata": {},
   "outputs": [
    {
     "name": "stdout",
     "output_type": "stream",
     "text": [
      "[['', 'Banco', 'Agência', 'Conta corrente', 'Acionista', 'Administrador', 'Complemento nome', '', 'P. Vinc', ''], ['', '001', '0364', '157935', '', '', '', '', 'N', '']]\n"
     ]
    },
    {
     "ename": "NameError",
     "evalue": "name 'table' is not defined",
     "output_type": "error",
     "traceback": [
      "\u001b[1;31m---------------------------------------------------------------------------\u001b[0m",
      "\u001b[1;31mNameError\u001b[0m                                 Traceback (most recent call last)",
      "Cell \u001b[1;32mIn[324], line 15\u001b[0m\n\u001b[0;32m     12\u001b[0m     banco2 \u001b[38;5;241m=\u001b[39m bloco6\u001b[38;5;241m.\u001b[39mextract_table(tabela_banco2)\n\u001b[0;32m     13\u001b[0m     \u001b[38;5;28mprint\u001b[39m(banco2)\n\u001b[0;32m     14\u001b[0m     obj_banco2 \u001b[38;5;241m=\u001b[39m {\n\u001b[1;32m---> 15\u001b[0m         table[\u001b[38;5;241m0\u001b[39m][\u001b[38;5;241m1\u001b[39m]: table[\u001b[38;5;241m1\u001b[39m][\u001b[38;5;241m1\u001b[39m],\n\u001b[0;32m     16\u001b[0m         table[\u001b[38;5;241m0\u001b[39m][\u001b[38;5;241m2\u001b[39m]: table[\u001b[38;5;241m1\u001b[39m][\u001b[38;5;241m2\u001b[39m],\n\u001b[0;32m     17\u001b[0m         table[\u001b[38;5;241m0\u001b[39m][\u001b[38;5;241m3\u001b[39m]: table[\u001b[38;5;241m1\u001b[39m][\u001b[38;5;241m3\u001b[39m],\n\u001b[0;32m     18\u001b[0m         table[\u001b[38;5;241m0\u001b[39m][\u001b[38;5;241m4\u001b[39m]: table[\u001b[38;5;241m1\u001b[39m][\u001b[38;5;241m4\u001b[39m],\n\u001b[0;32m     19\u001b[0m         table[\u001b[38;5;241m0\u001b[39m][\u001b[38;5;241m5\u001b[39m]: table[\u001b[38;5;241m1\u001b[39m][\u001b[38;5;241m5\u001b[39m],\n\u001b[0;32m     20\u001b[0m         table[\u001b[38;5;241m0\u001b[39m][\u001b[38;5;241m6\u001b[39m]: table[\u001b[38;5;241m1\u001b[39m][\u001b[38;5;241m6\u001b[39m],\n\u001b[0;32m     21\u001b[0m         table[\u001b[38;5;241m0\u001b[39m][\u001b[38;5;241m8\u001b[39m]: table[\u001b[38;5;241m1\u001b[39m][\u001b[38;5;241m8\u001b[39m]\n\u001b[0;32m     22\u001b[0m     }\n\u001b[0;32m     23\u001b[0m     \u001b[38;5;28mprint\u001b[39m(obj_banco2)\n\u001b[0;32m     24\u001b[0m im \u001b[38;5;241m=\u001b[39m bloco6\u001b[38;5;241m.\u001b[39mto_image()\n",
      "\u001b[1;31mNameError\u001b[0m: name 'table' is not defined"
     ]
    }
   ],
   "source": [
    "with pdfplumber.open('Rico.pdf') as temp:\n",
    "    page = temp.pages[0]\n",
    "    bloco6 = page.crop((20, 200, page.width, 220))\n",
    "    \n",
    "    tabela_banco2 = {\n",
    "        \"horizontal_strategy\": \"explicit\",\n",
    "        \"vertical_strategy\": \"lines\",\n",
    "        \"explicit_horizontal_lines\": [200, 205, 215],\n",
    "        \"explicit_vertical_lines\": [33, 60, 140, 230, 320, 422, 530, 560]\n",
    "    }\n",
    "    \n",
    "    banco2 = bloco6.extract_table(tabela_banco2)\n",
    "    print(banco2)\n",
    "    obj_banco2 = {\n",
    "        table[0][1]: table[1][1],\n",
    "        table[0][2]: table[1][2],\n",
    "        table[0][3]: table[1][3],\n",
    "        table[0][4]: table[1][4],\n",
    "        table[0][5]: table[1][5],\n",
    "        table[0][6]: table[1][6],\n",
    "        table[0][8]: table[1][8]\n",
    "    }\n",
    "    print(obj_banco2)\n",
    "im = bloco6.to_image()\n",
    "im.draw_hlines([200, 205, 215])\n",
    "im.draw_vlines([33, 60, 140, 230, 320, 422, 530, 560])"
   ]
  },
  {
   "cell_type": "code",
   "execution_count": 401,
   "id": "2eaf879c",
   "metadata": {},
   "outputs": [
    {
     "name": "stdout",
     "output_type": "stream",
     "text": [
      "[['Q', 'Negociação', 'C/', 'V Tipo mercado', 'Prazo Especificação do título Obs. (*) Q', 'uantidad', 'e Preço / Aj', 'uste Valor', 'Operação / Ajuste D', '/C'], ['', '1-BOVESPA', 'C', 'VISTA', 'OI ON N1', '', '500', '1,05', '525,00', 'D']]\n"
     ]
    },
    {
     "data": {
      "image/png": "[encoded data removed]",
      "text/plain": [
       "<pdfplumber.display.PageImage at 0x20686c5d950>"
      ]
     },
     "execution_count": 401,
     "metadata": {},
     "output_type": "execute_result"
    }
   ],
   "source": [
    "with pdfplumber.open('Rico.pdf') as temp:\n",
    "    page = temp.pages[0]\n",
    "    bloco_registros = page.crop((20, 240, page.width, 450))\n",
    "    \n",
    "    tabela_registros = {\n",
    "        \"vertical_strategy\": \"explicit\",\n",
    "        \"horizontal_strategy\": \"text\",\n",
    "        \"explicit_vertical_lines\": [33, 46, 96, 106, 168, 330, 360, 409,\n",
    "               459, 548, 555]\n",
    "    }\n",
    "    negocios = bloco_registros.extract_table(tabela_registros)\n",
    "    print(negocios)\n",
    "    \n",
    "im = bloco_registros.to_image()\n",
    "im.draw_hlines([200, 205, 215])\n",
    "im.draw_vlines([33, 46, 96, 106, 165, 330, 360, 409,\n",
    "               459, 548, 555])"
   ]
  },
  {
   "cell_type": "code",
   "execution_count": 2,
   "id": "b5f2dc30",
   "metadata": {},
   "outputs": [
    {
     "name": "stdout",
     "output_type": "stream",
     "text": [
      "2\n",
      "{'Q': '', 'Negociacao': 'N', 'C/V': '1-BOVESPA', 'Tipo_Mercado': 'C', 'Prazo': 'VISTA', 'Especificacao_do_Titulo': '', 'OBS': 'OI ON N1', 'Quantidade': '', 'Preco_Ajuste': '500', 'Valor_Operacao_Ajuste': '1,05', 'D_C': '525,00'}\n"
     ]
    }
   ],
   "source": [
    "with pdfplumber.open('Rico.pdf') as temp:\n",
    "    # Rico - FII.pdf\n",
    "    page = temp.pages[0]\n",
    "    bloco_registros = page.crop((20, 240, page.width, 450))\n",
    "    \n",
    "    tabela_registros = {\n",
    "        \"vertical_strategy\": \"explicit\",\n",
    "        \"horizontal_strategy\": \"text\",\n",
    "        \"explicit_vertical_lines\": [33, 45, 88, 104, 162,\n",
    "                                    184.5, 300, 350, 400, 450,\n",
    "                                   548, 555]\n",
    "    }\n",
    "    negocios = bloco_registros.extract_table(tabela_registros)\n",
    "    operacoes = []\n",
    "    contagem = 1\n",
    "    for operation in negocios:\n",
    "        while contagem <= len(negocios) - 1:\n",
    "            obj_negocios = {\n",
    "                \"Q\": \"\",\n",
    "                \"Negociacao\": operation[1][0],\n",
    "                \"C/V\": negocios[contagem][1],\n",
    "                \"Tipo_Mercado\": negocios[contagem][2],\n",
    "                \"Prazo\": negocios[contagem][3],\n",
    "                \"Especificacao_do_Titulo\": negocios[contagem][4],\n",
    "                \"OBS\": negocios[contagem][5],\n",
    "                \"Quantidade\": negocios[contagem][6],\n",
    "                \"Preco_Ajuste\": negocios[contagem][7],\n",
    "                \"Valor_Operacao_Ajuste\": negocios[contagem][8],\n",
    "                \"D_C\": negocios[contagem][9]\n",
    "            }\n",
    "            operacoes.append(obj_negocios)\n",
    "            print(obj_negocios)\n",
    "            contagem += 1\n",
    "    #print(negocios)\n",
    "    \n",
    "# im = bloco_registros.to_image()\n",
    "# im.draw_vlines([33, 45, 88, 104, 162, 184.5, 300, 350, \n",
    "#            400, 450, 548, 555])"
   ]
  },
  {
   "cell_type": "code",
   "execution_count": 31,
   "id": "bbd1c6bf",
   "metadata": {},
   "outputs": [
    {
     "name": "stdout",
     "output_type": "stream",
     "text": [
      "{'titulo': 'Resumo dos Negócios', 'Debentures': '0,00', 'Vendas_a_Vista': '0,00', 'Compras_a_vista': '525,00', 'Opcoes_compras': '0,00', 'Opcoes_vendas': '0,00', 'Operacoes_a_termo': '0,00', 'Valor_operecoes_Ctitulo': '0,00', 'Valor_Das_Operacoes': '525,00', 'Especificacoes_diversas': 'A coluna Q indica liquidação no Agente do Qualificado.'}\n"
     ]
    },
    {
     "data": {
      "image/png": "[encoded data removed]",
      "text/plain": [
       "<pdfplumber.display.PageImage at 0x1bb7ac2d310>"
      ]
     },
     "execution_count": 31,
     "metadata": {},
     "output_type": "execute_result"
    }
   ],
   "source": [
    "with pdfplumber.open('Rico.pdf') as temp:\n",
    "    page = temp.pages[0]\n",
    "    bloco_inferior_1 = page.crop((20, 400, 300, 540))\n",
    "    bloco_inferior_2 = page.crop((20, 555, 300, 600))\n",
    "    \n",
    "    tabela_inferior_1 = {\n",
    "        \"vertical_strategy\": \"lines\",\n",
    "        \"horizontal_strategy\": \"explicit\",\n",
    "        \"explicit_vertical_lines\": [34, 270],\n",
    "        \"explicit_horizontal_lines\": [450, 460, 470, 480, 490, 500, 507,\n",
    "                                        516, 526, 536]\n",
    "    }\n",
    "    coluna_inferior_1 = bloco_inferior_1.extract_table(tabela_inferior_1)\n",
    "    tabela_inferior_2 = {\n",
    "        \"vertical_strategy\": \"lines\",\n",
    "        \"horizontal_strategy\": \"explicit\",\n",
    "        \"explicit_horizontal_lines\": [555, 565, 590, 598]\n",
    "    }\n",
    "    \n",
    "    coluna_inferior_2 = bloco_inferior_2.extract_table(tabela_inferior_2)\n",
    "    column_left_1 = {\n",
    "        \"titulo\": coluna_inferior_1[0][1],\n",
    "        \"Debentures\": coluna_inferior_1[1][2],\n",
    "        \"Vendas_a_Vista\": coluna_inferior_1[2][2],\n",
    "        \"Compras_a_vista\": coluna_inferior_1[3][2],\n",
    "        \"Opcoes_compras\": coluna_inferior_1[4][2],\n",
    "        \"Opcoes_vendas\": coluna_inferior_1[5][2],\n",
    "        \"Operacoes_a_termo\": coluna_inferior_1[6][2],\n",
    "        \"Valor_operecoes_Ctitulo\": coluna_inferior_1[7][2],\n",
    "        \"Valor_Das_Operacoes\": coluna_inferior_1[8][2],\n",
    "        \"Especificacoes_diversas\": coluna_inferior_2[2][1]\n",
    "    }\n",
    "    print(column_left_1)\n",
    "    # print(coluna_inferior_1)\n",
    "im = bloco_inferior_1.to_image()\n",
    "im.draw_hlines([])\n",
    "im.draw_vlines([34,270, 299])"
   ]
  },
  {
   "cell_type": "code",
   "execution_count": 53,
   "id": "1ed4b714",
   "metadata": {
    "scrolled": true
   },
   "outputs": [
    {
     "name": "stdout",
     "output_type": "stream",
     "text": [
      "{'Tipo_titulo': '(*) Observações', 'Dados_A': 'A - Posição futuro', 'Dados_T': 'T - Liquidação pelo Bruto', 'Informacao_Corretora': '2 - Corretora ou pessoa vinculada atuou na contra parte.', 'Dados_C': 'C - Clubes e fundos de Ações', 'Dados_I': 'I - POP', 'Negocio': '# - Negócio direto', 'Dados_P': 'P - Carteira Própria', 'Dados_Liquidacao': '8 - Liquidação Institucional', 'Dados_H': 'H - Home Broker', 'Dados_D': 'D - Day Trade', 'Dados_X': 'X - Box', 'Dados_F': 'F - Cobertura', 'Dados_Y': 'Y - Desmanche de Box', 'Dados_B': 'B - Debêntures', 'Dados_L': 'L - Precatório'}\n"
     ]
    }
   ],
   "source": [
    " with pdfplumber.open('Rico.pdf') as temp:\n",
    "    page = temp.pages[0]\n",
    "    coluna_inferior_3 = page.crop((20, 640, 300, 745))    \n",
    "    tabela_inferior_3= {\n",
    "        \"horizontal_strategy\": \"explicit\",\n",
    "        \"vertical_strategy\": \"lines\",    \n",
    "        \"horizontal_strategy\": \"text\",\n",
    "        \"explicit_horizontal_lines\": [650, 680, 680, 694, 710, 720, 740],\n",
    "        \"explicit_vertical_lines\": [148, 210, 280]\n",
    "    }\n",
    "    \n",
    "    coluna3 = coluna_inferior_3.extract_table(tabela_inferior_3)\n",
    "    column_left_3 = {\n",
    "        \"Tipo_titulo\": coluna3[0][1],\n",
    "        \"Dados_A\": coluna3[0][2],\n",
    "        \"Dados_T\": coluna3[0][3],\n",
    "        \"Informacao_Corretora\": coluna3[2][1],\n",
    "        \"Dados_C\": coluna3[2][2],\n",
    "        \"Dados_I\": coluna3[2][3],\n",
    "        \"Negocio\": coluna3[4][1],\n",
    "        \"Dados_P\": coluna3[4][2],\n",
    "        \"Dados_Liquidacao\": coluna3[6][1],\n",
    "        \"Dados_H\": coluna3[6][2],\n",
    "        \"Dados_D\": coluna3[8][1],\n",
    "        \"Dados_X\": coluna3[8][2],\n",
    "        \"Dados_F\": coluna3[11][1],\n",
    "        \"Dados_Y\": coluna3[11][2],\n",
    "        \"Dados_B\": coluna3[13][1],\n",
    "        \"Dados_L\": coluna3[13][2],\n",
    "    }\n",
    "    print(column_left_3)"
   ]
  },
  {
   "cell_type": "code",
   "execution_count": 3,
   "id": "77b74fd1",
   "metadata": {},
   "outputs": [
    {
     "name": "stdout",
     "output_type": "stream",
     "text": [
      "[['Resumo Financeiro', '', '', '', ''], ['Clearing', '', '', '', ''], ['Valor líquido das operações', '', '525,00', 'D', ''], ['Taxa de liquidação', '', '0,14', 'D', ''], ['Taxa de Registro', '', '0,00', 'D', ''], ['Total CBLC', '', '525,14', 'D', ''], ['Bolsa', '', '', '', ''], ['Taxa de termo/opções', '', '0,00', 'D', ''], ['Taxa A.N.A.', '', '0,00', 'D', ''], ['Emolumentos', '', '0,01', 'D', ''], ['Total Bovespa / Soma', '', '0,01', 'D', ''], ['Custos Operacionais', '', '', '', ''], ['', '', '', '', ''], ['Taxa Operacional', '', '10,00', 'D', ''], ['Execução', '', '0,00', '', ''], ['Taxa de Custódia', '', '0,00', '', ''], ['Impostos', '', '1,06', 'D', ''], ['I.R.R.F. s/ operações, base R$0,00', '', '0,00', '', ''], ['Outros', '', '0,00', 'C', ''], ['Total Custos / Despesas', '', '11,06', 'D', ''], ['Líquido para 19/09/2019', '', '536,21', 'D', ''], ['Observação: (1) As operações a ter', 'mo não são computadas no líquido da fatura.', '', '', '']]\n"
     ]
    },
    {
     "data": {
      "image/png": "[encoded data removed]",
      "text/plain": [
       "<pdfplumber.display.PageImage at 0x28bf2521990>"
      ]
     },
     "execution_count": 3,
     "metadata": {},
     "output_type": "execute_result"
    }
   ],
   "source": [
    "with pdfplumber.open('Rico.pdf') as temp:\n",
    "    page = temp.pages[0]\n",
    "    bloco_inferior_direita = page.crop((300, 400, page.width, 700))\n",
    "    \n",
    "    tabela_direita = {\n",
    "        \"horizontal_strategy\": \"explicit\",\n",
    "        \"vertical_strategy\": \"lines\",\n",
    "        \"explicit_vertical_lines\": [299, 400, 525, 545, 557],\n",
    "        \"explicit_horizontal_lines\": [450, 460, 470, 480, 490, 500, \n",
    "                507, 517, 527, 535, 545, 552, 562,\n",
    "               572, 582, 592, 600, 610, 619, 629, 639,\n",
    "               649, 659]\n",
    "    }\n",
    "    column_rigth = bloco_inferior_direita.extract_table(tabela_direita)\n",
    "    print(column_rigth)\n",
    "im = bloco_inferior_direita.to_image()\n",
    "im.draw_hlines([450, 460, 470, 480, 490, 500, \n",
    "                507, 517, 527, 535, 545, 552, 562,\n",
    "               572, 582, 592, 600, 610, 619, 629, 639,\n",
    "               649, 659])\n",
    "\n",
    "\n",
    "\n",
    "im.draw_vlines([299, 400, 525, 545, 557])"
   ]
  },
  {
   "cell_type": "code",
   "execution_count": 12,
   "id": "bc12c87d",
   "metadata": {},
   "outputs": [
    {
     "name": "stdout",
     "output_type": "stream",
     "text": [
      "{'Taxa_Operacional': {'Valor': '10,00', 'DC': 'D'}, 'Execucao': {'Valor': '0,00', 'DC': ''}, 'Taxa_de_custodia': {'Valor': '0,00', 'DC': ''}, 'Impostos': {'Valor': '1,06', 'DC': 'D'}, 'I.R.R.F. s/ operações, base R$0,00': {'Valor': '0,00', 'DC': ''}, 'Outros': {'Valor': '0,00', 'DC': 'C'}, 'Total_custos_despesas': {'Valor': '11,06', 'DC': 'D'}, 'Líquido para 19/09/2019': {'Valor': '536,21', 'DC': 'D'}, 'Observacao': 'Observação: (1) As operações a termo não são computadas no líquido da fatura.'}\n"
     ]
    }
   ],
   "source": [
    "    obj_clearing = {\n",
    "        \"Valor_liquido_das_operacoes\": {\n",
    "            \"Valor\": column_rigth[2][2],\n",
    "            \"DC\": column_rigth[2][3]\n",
    "        },\n",
    "        \"Taxa de Liquidacao\": {\n",
    "            \"Valor\": column_rigth[3][2],\n",
    "            \"Dc\": column_rigth[3][3]\n",
    "        },\n",
    "        \"Taxa de Registro\": {\n",
    "            \"Valor\": column_rigth[4][2],\n",
    "            \"DC\": column_rigth[4][3]\n",
    "        },\n",
    "        \"Total CBLC\": {\n",
    "            \"Valor\": column_rigth[5][2],\n",
    "            \"DC\": column_rigth[5][3]\n",
    "        }\n",
    "    }\n",
    "    \n",
    "    obj_bolsa = {\n",
    "        \"Taxa de Termos_Opcoes\": {\n",
    "            \"Valor\": column_rigth[7][2],\n",
    "            \"DC\": column_rigth[7][3]\n",
    "        },\n",
    "        \"Taxa_A_N_A\": {\n",
    "            \"Valor\": column_rigth[8][2],\n",
    "            \"DC\": column_rigth[8][3]\n",
    "        },\n",
    "        \"Emolumentos\": {\n",
    "            \"Valor\": column_rigth[9][2],\n",
    "            \"DC\": column_rigth[9][3]\n",
    "        },\n",
    "        \"Total_BOVESPA_SOMA\": {\n",
    "            \"Valor\": column_rigth[10][2],\n",
    "            \"DC\": column_rigth[10][3]\n",
    "        }\n",
    "    }\n",
    "    \n",
    "    obj_resumo = { \n",
    "        \"Taxa_Operacional\": {\n",
    "            \"Valor\": column_rigth[13][2],\n",
    "            \"DC\": column_rigth[13][3]\n",
    "        },\n",
    "        \"Execucao\": {\n",
    "            \"Valor\":   column_rigth[14][2],\n",
    "            \"DC\": column_rigth[14][3]\n",
    "        },\n",
    "        \"Taxa_de_custodia\": {\n",
    "            \"Valor\":  column_rigth[15][2],\n",
    "            \"DC\": column_rigth[15][3]\n",
    "        },\n",
    "        \"Impostos\": {\n",
    "            \"Valor\": column_rigth[16][2],\n",
    "            \"DC\": column_rigth[16][3]\n",
    "        },\n",
    "        f\"{column_rigth[17][0]}\":  {\n",
    "            \"Valor\": column_rigth[17][2],\n",
    "            \"DC\": column_rigth[17][3]\n",
    "        },\n",
    "        \"Outros\": {\n",
    "            \"Valor\": column_rigth[18][2],\n",
    "            \"DC\": column_rigth[18][3]\n",
    "        },\n",
    "        \"Total_custos_despesas\": {\n",
    "            \"Valor\": column_rigth[19][2],\n",
    "            \"DC\": column_rigth[19][3]\n",
    "        },\n",
    "        f\"{column_rigth[20][0]}\":  {\n",
    "            \"Valor\": column_rigth[20][2],\n",
    "            \"DC\": column_rigth[20][3]\n",
    "        },\n",
    "        \"Observacao\":  f\"{column_rigth[21][0]}{column_rigth[21][1]}\",\n",
    "    }\n",
    "    print(obj_resumo)"
   ]
  }
 ],
 "metadata": {
  "kernelspec": {
   "display_name": "Python 3 (ipykernel)",
   "language": "python",
   "name": "python3"
  },
  "language_info": {
   "codemirror_mode": {
    "name": "ipython",
    "version": 3
   },
   "file_extension": ".py",
   "mimetype": "text/x-python",
   "name": "python",
   "nbconvert_exporter": "python",
   "pygments_lexer": "ipython3",
   "version": "3.11.4"
  }
 },
 "nbformat": 4,
 "nbformat_minor": 5
}
